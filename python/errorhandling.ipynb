{
  "nbformat": 4,
  "nbformat_minor": 0,
  "metadata": {
    "colab": {
      "provenance": []
    },
    "kernelspec": {
      "name": "python3",
      "display_name": "Python 3"
    },
    "language_info": {
      "name": "python"
    }
  },
  "cells": [
    {
      "cell_type": "code",
      "execution_count": null,
      "metadata": {
        "colab": {
          "base_uri": "https://localhost:8080/"
        },
        "id": "8fhNhHJlKFC9",
        "outputId": "f94c6af0-2434-422f-f80c-e0a12f22bd1d"
      },
      "outputs": [
        {
          "output_type": "stream",
          "name": "stdout",
          "text": [
            "second element=2\n",
            "an error occured\n"
          ]
        }
      ],
      "source": [
        "a=[1,2,3]\n",
        "try:\n",
        "  print(\"second element=%d\"%(a[1]))\n",
        "  print(\"fourth element=%d\"%(a[3]))\n",
        "except:\n",
        "  print(\"an error occured\")\n"
      ]
    },
    {
      "cell_type": "markdown",
      "source": [
        "raising exception\n"
      ],
      "metadata": {
        "id": "W_nG4mzfKZ4f"
      }
    },
    {
      "cell_type": "code",
      "source": [
        "age = int(input(\"Enter your age:\"))\n",
        "\n",
        "if age<0:\n",
        "  raise ValueError(\"Age cannot be negative\")\n",
        "else:\n",
        "  print(f\"Your age is{age}\")\n",
        "\n",
        "print(\"No try except\")\n"
      ],
      "metadata": {
        "colab": {
          "base_uri": "https://localhost:8080/",
          "height": 228
        },
        "id": "UENRzxpNKeLu",
        "outputId": "56e68bcc-0771-4394-b0d1-7d4c81839b7e"
      },
      "execution_count": null,
      "outputs": [
        {
          "name": "stdout",
          "output_type": "stream",
          "text": [
            "Enter your age:-75\n"
          ]
        },
        {
          "output_type": "error",
          "ename": "ValueError",
          "evalue": "Age cannot be negative",
          "traceback": [
            "\u001b[0;31m---------------------------------------------------------------------------\u001b[0m",
            "\u001b[0;31mValueError\u001b[0m                                Traceback (most recent call last)",
            "\u001b[0;32m/tmp/ipython-input-1725811291.py\u001b[0m in \u001b[0;36m<cell line: 0>\u001b[0;34m()\u001b[0m\n\u001b[1;32m      2\u001b[0m \u001b[0;34m\u001b[0m\u001b[0m\n\u001b[1;32m      3\u001b[0m \u001b[0;32mif\u001b[0m \u001b[0mage\u001b[0m\u001b[0;34m<\u001b[0m\u001b[0;36m0\u001b[0m\u001b[0;34m:\u001b[0m\u001b[0;34m\u001b[0m\u001b[0;34m\u001b[0m\u001b[0m\n\u001b[0;32m----> 4\u001b[0;31m   \u001b[0;32mraise\u001b[0m \u001b[0mValueError\u001b[0m\u001b[0;34m(\u001b[0m\u001b[0;34m\"Age cannot be negative\"\u001b[0m\u001b[0;34m)\u001b[0m\u001b[0;34m\u001b[0m\u001b[0;34m\u001b[0m\u001b[0m\n\u001b[0m\u001b[1;32m      5\u001b[0m \u001b[0;32melse\u001b[0m\u001b[0;34m:\u001b[0m\u001b[0;34m\u001b[0m\u001b[0;34m\u001b[0m\u001b[0m\n\u001b[1;32m      6\u001b[0m   \u001b[0mprint\u001b[0m\u001b[0;34m(\u001b[0m\u001b[0;34mf\"Your age is{age}\"\u001b[0m\u001b[0;34m)\u001b[0m\u001b[0;34m\u001b[0m\u001b[0;34m\u001b[0m\u001b[0m\n",
            "\u001b[0;31mValueError\u001b[0m: Age cannot be negative"
          ]
        }
      ]
    },
    {
      "cell_type": "code",
      "source": [
        "try:\n",
        "  age = int(input(\"Enter your age:\"))\n",
        "\n",
        "  if age<0:\n",
        "    raise ValueError(\"Age cannot be negative\")\n",
        "  else:\n",
        "    print(f\"Your age is{age}\")\n",
        "except ValueError as e:\n",
        "  print(e)\n",
        "print(\"try except finished\")"
      ],
      "metadata": {
        "colab": {
          "base_uri": "https://localhost:8080/"
        },
        "id": "gvNhwJjwKK8k",
        "outputId": "2de08e6c-31b7-4c97-80b4-5f06c3d04847"
      },
      "execution_count": null,
      "outputs": [
        {
          "output_type": "stream",
          "name": "stdout",
          "text": [
            "Enter your age:-20\n",
            "Age cannot be negative\n",
            "try except finished\n"
          ]
        }
      ]
    },
    {
      "cell_type": "markdown",
      "source": [
        "custom exceptions"
      ],
      "metadata": {
        "id": "GtSu58MDNkBO"
      }
    },
    {
      "cell_type": "code",
      "source": [
        "class InvalidAgeException(Exception):\n",
        "  \"Raised when the input value is less than 18\"\n",
        "  pass\n",
        "\n",
        "# yout need to guess this number\n",
        "number=18\n",
        "try:\n",
        "  input_num = int(input(\"Enter a number: \"))\n",
        "  if input_num < number:\n",
        "    raise InvalidAgeException\n",
        "\n",
        "  else:\n",
        "    print(\"Eligible to Vote\")\n",
        "\n",
        "except InvalidAgeException:\n",
        "  print(\"Exception Occurred : Invalid Age\")"
      ],
      "metadata": {
        "colab": {
          "base_uri": "https://localhost:8080/"
        },
        "id": "2K36rAgRNnde",
        "outputId": "f0532dbe-dce4-45f5-998d-476ebfe851ab"
      },
      "execution_count": null,
      "outputs": [
        {
          "output_type": "stream",
          "name": "stdout",
          "text": [
            "Enter a number: 40\n",
            "Eligible to Vote\n"
          ]
        }
      ]
    },
    {
      "cell_type": "code",
      "source": [],
      "metadata": {
        "id": "yZLaOnb9K9yu"
      },
      "execution_count": null,
      "outputs": []
    }
  ]
}