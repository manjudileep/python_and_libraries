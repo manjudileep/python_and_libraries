{
  "nbformat": 4,
  "nbformat_minor": 0,
  "metadata": {
    "colab": {
      "provenance": []
    },
    "kernelspec": {
      "name": "python3",
      "display_name": "Python 3"
    },
    "language_info": {
      "name": "python"
    }
  },
  "cells": [
    {
      "cell_type": "code",
      "execution_count": null,
      "metadata": {
        "colab": {
          "base_uri": "https://localhost:8080/"
        },
        "id": "i2zYjuUUaUEr",
        "outputId": "5f92c82a-d910-41b6-b13c-ec491efc2228"
      },
      "outputs": [
        {
          "output_type": "stream",
          "name": "stdout",
          "text": [
            "thread running\n"
          ]
        }
      ],
      "source": [
        "import threading\n",
        "def task():\n",
        "  print(\"thread running\")\n",
        "thread=threading.Thread(target=task)\n",
        "thread.start()\n",
        "thread.join()"
      ]
    },
    {
      "cell_type": "code",
      "source": [
        "import threading\n",
        "def task1():\n",
        "  print(\"task 1\")\n",
        "def task2():\n",
        "  print(\"task 2\")\n",
        "t1=threading.Thread(target=task1)\n",
        "t2=threading.Thread(target=task2)\n",
        "t1.start()\n",
        "t2.start()\n",
        "t1.join()\n",
        "t2.join()"
      ],
      "metadata": {
        "colab": {
          "base_uri": "https://localhost:8080/"
        },
        "id": "tYhgIrR-baQf",
        "outputId": "b1e2c708-d60f-4d79-aa38-8f0f060ed038"
      },
      "execution_count": null,
      "outputs": [
        {
          "output_type": "stream",
          "name": "stdout",
          "text": [
            "task 1\n",
            "task 2\n"
          ]
        }
      ]
    },
    {
      "cell_type": "code",
      "source": [
        "import threading\n",
        "def print_numbers():\n",
        " for i in range(5):\n",
        "  print(i)\n",
        "\n",
        "thread=threading.Thread(target=print_numbers)\n",
        "thread.start()\n",
        "thread.join()\n"
      ],
      "metadata": {
        "colab": {
          "base_uri": "https://localhost:8080/"
        },
        "id": "4bRsn3Y6d7yV",
        "outputId": "6acfb20f-18d0-4709-8674-09be6b45c2ae"
      },
      "execution_count": null,
      "outputs": [
        {
          "output_type": "stream",
          "name": "stdout",
          "text": [
            "0\n",
            "1\n",
            "2\n",
            "3\n",
            "4\n"
          ]
        }
      ]
    },
    {
      "cell_type": "code",
      "source": [
        "import threading\n",
        "import time\n",
        "\n",
        "# Function for the chef's work (Thread 1)\n",
        "def chef_work():\n",
        "    for i in range(5):  # Chef prepares 5 dishes\n",
        "        print(f\"Chef: Preparing dish {i + 1}...\")\n",
        "        time.sleep(2)  # Simulate time taken to prepare a dish\n",
        "        if i == 2:  # Assistant starts washing utensils during the 3rd dish\n",
        "            print(\"Chef: Calling assistant to wash utensils.\")\n",
        "            time.sleep(1)  # Simulate time taken to call the assistant\n",
        "            assistant_thread = threading.Thread(target=assistant_work)\n",
        "            assistant_thread.start()\n",
        "            assistant_thread.join()  # Wait for the assistant to finish\n",
        "            print(\"Chef: Assistant done. Resuming dish preparation.\")\n",
        "    print(\"Chef: All dishes are prepared.\")\n",
        "\n",
        "# Function for the assistant's work (Thread 2)\n",
        "def assistant_work():\n",
        "    for j in range(3):  # Assistant washes 3 utensils\n",
        "        print(f\"  Assistant: Washing utensil {j + 1}...\")\n",
        "        time.sleep(2)  # Simulate time taken to wash each utensil\n",
        "    print(\"  Assistant: All utensils are clean.\")\n",
        "\n",
        "\n",
        "print(\"Kitchen: Starting work.\")\n",
        "chef_thread = threading.Thread(target=chef_work)\n",
        "chef_thread.start()\n",
        "chef_thread.join()  # Wait for the chef to complete their work\n",
        "print(\"Kitchen: All work completed.\")\n"
      ],
      "metadata": {
        "colab": {
          "base_uri": "https://localhost:8080/"
        },
        "id": "Jr5IpuaAd1SO",
        "outputId": "101abe03-01a6-4893-db47-015902cd6e16"
      },
      "execution_count": null,
      "outputs": [
        {
          "output_type": "stream",
          "name": "stdout",
          "text": [
            "Kitchen: Starting work.\n",
            "Chef: Preparing dish 1...\n",
            "Chef: Preparing dish 2...\n",
            "Chef: Preparing dish 3...\n",
            "Chef: Calling assistant to wash utensils.\n",
            "  Assistant: Washing utensil 1...\n",
            "  Assistant: Washing utensil 2...\n",
            "  Assistant: Washing utensil 3...\n",
            "  Assistant: All utensils are clean.\n",
            "Chef: Assistant done. Resuming dish preparation.\n",
            "Chef: Preparing dish 4...\n",
            "Chef: Preparing dish 5...\n",
            "Chef: All dishes are prepared.\n",
            "Kitchen: All work completed.\n"
          ]
        }
      ]
    },
    {
      "cell_type": "code",
      "source": [
        "def even(x):\n",
        "  for i in range(0,x,2):\n",
        "    print(i)\n",
        "def odd(x):\n",
        "  for i in range(1,x,2):\n",
        "    print(i)\n",
        "\n",
        "import threading\n",
        "t1=threading.Thread(target=even,args=(20,))\n",
        "t2=threading.Thread(target=odd,args=(20,))\n",
        "t1.start()\n",
        "t2.start()\n",
        "t1.join()\n",
        "t2.join()\n",
        "print(\"done\")"
      ],
      "metadata": {
        "colab": {
          "base_uri": "https://localhost:8080/"
        },
        "id": "z1HxZBUtgbP8",
        "outputId": "ad7b20c4-a8db-4829-e710-0431a1d010d7"
      },
      "execution_count": null,
      "outputs": [
        {
          "output_type": "stream",
          "name": "stdout",
          "text": [
            "0\n",
            "2\n",
            "4\n",
            "6\n",
            "8\n",
            "10\n",
            "12\n",
            "14\n",
            "16\n",
            "18\n",
            "1\n",
            "3\n",
            "5\n",
            "7\n",
            "9\n",
            "11\n",
            "13\n",
            "15\n",
            "17\n",
            "19\n",
            "done\n"
          ]
        }
      ]
    },
    {
      "cell_type": "code",
      "source": [
        "import threading\n",
        "import time\n",
        "def chef_work():\n",
        "    for i in range(5):  # Chef prepares 5 dishes\n",
        "        print(f\"Chef: Preparing dish {i + 1}...\")\n",
        "        time.sleep(2)  # Simulate time taken to prepare a dish\n",
        "        if i == 2:  # Assistant starts washing utensils during the 3rd dish\n",
        "            print(\"Chef: Calling assistant to wash utensils.\")\n",
        "            time.sleep(1)  # Simulate time taken to call the assistant\n",
        "            assistant_thread = threading.Thread(target=assistant_work)\n",
        "            assistant_thread.start()\n",
        "            assistant_thread.join()  # Wait for the assistant to finish\n",
        "            print(\"Chef: Assistant done. Resuming dish preparation.\")\n",
        "    print(\"Chef: All dishes are prepared.\")\n",
        "\n",
        "# Function for the assistant's work (Thread 2)\n",
        "def assistant_work():\n",
        "    for j in range(3):  # Assistant washes 3 utensils\n",
        "        print(f\"  Assistant: Washing utensil {j + 1}...\")\n",
        "        time.sleep(2)  # Simulate time taken to wash each utensil\n",
        "    print(\"  Assistant: All utensils are clean.\")\n",
        "print(\"Kitchen: Starting work.\")\n",
        "chef_thread = threading.Thread(target=chef_work)\n",
        "chef_thread.start()\n",
        "chef_thread.join()  # Wait for the chef to complete their work\n",
        "print(\"Kitchen: All work completed.\")\n"
      ],
      "metadata": {
        "id": "Hawr3ghqiH2V",
        "colab": {
          "base_uri": "https://localhost:8080/"
        },
        "outputId": "28d7f9d6-2abc-407c-d085-eaea251dc4dc"
      },
      "execution_count": null,
      "outputs": [
        {
          "output_type": "stream",
          "name": "stdout",
          "text": [
            "Kitchen: Starting work.\n",
            "Chef: Preparing dish 1...\n",
            "Chef: Preparing dish 2...\n",
            "Chef: Preparing dish 3...\n",
            "Chef: Calling assistant to wash utensils.\n",
            "  Assistant: Washing utensil 1...\n",
            "  Assistant: Washing utensil 2...\n",
            "  Assistant: Washing utensil 3...\n",
            "  Assistant: All utensils are clean.\n",
            "Chef: Assistant done. Resuming dish preparation.\n",
            "Chef: Preparing dish 4...\n",
            "Chef: Preparing dish 5...\n",
            "Chef: All dishes are prepared.\n",
            "Kitchen: All work completed.\n"
          ]
        }
      ]
    },
    {
      "cell_type": "markdown",
      "source": [
        "Write a Python program using threading to simulate music playback and lyrics downloading:\n",
        "\n",
        "Music playback runs in one thread for 5 seconds, printing a message each second. During the 3rd second, a separate thread starts to simulate downloading lyrics, which takes 3 seconds. Ensure the music playback waits for the lyrics to finish downloading before continuing."
      ],
      "metadata": {
        "id": "gnT1d-b4xT2b"
      }
    },
    {
      "cell_type": "code",
      "source": [
        "import threading\n",
        "import time\n",
        "def music_play():\n",
        "  print(\"starting music\")\n",
        "  for i in range(5):\n",
        "    print(f\"music playing for {i+1} seconds\")\n",
        "    time.sleep(2)\n",
        "    if i==2:\n",
        "      print(\" Downloading lyrics in the background.\")\n",
        "      time.sleep(3)\n",
        "      download_thread= threading.Thread(target=down_lyrics)\n",
        "      download_thread.start()\n",
        "      download_thread.join()\n",
        "  print(f\"Music Player: Playback ended\")\n",
        "\n",
        "def down_lyrics():\n",
        "\n",
        "  for j in range(3):\n",
        "    print(f\"Downloading lyrics... {j+1} seconds.\")\n",
        "\n",
        "\n",
        "music_thread=threading.Thread(target=music_play)\n",
        "music_thread.start()\n",
        "music_thread.join()\n"
      ],
      "metadata": {
        "colab": {
          "base_uri": "https://localhost:8080/"
        },
        "id": "yCiW5fJ-xXIi",
        "outputId": "4d6a0992-5e6c-47e2-ffb1-004aaf47ac7c"
      },
      "execution_count": null,
      "outputs": [
        {
          "output_type": "stream",
          "name": "stdout",
          "text": [
            "starting music\n",
            "music playing for 1 seconds\n",
            "music playing for 2 seconds\n",
            "music playing for 3 seconds\n",
            " Downloading lyrics in the background.\n",
            "Downloading lyrics... 1 seconds.\n",
            "Downloading lyrics... 2 seconds.\n",
            "Downloading lyrics... 3 seconds.\n",
            "music playing for 4 seconds\n",
            "music playing for 5 seconds\n",
            "Music Player: Playback ended\n"
          ]
        }
      ]
    },
    {
      "cell_type": "code",
      "source": [
        "a=[1,2,3]\n",
        "try:\n",
        "  print(\"second element=%d\"%(a[1]))\n",
        "  print(\"fourth element=%d\"%(a[3]))\n",
        "except:\n",
        "  print(\"an error occured\")\n"
      ],
      "metadata": {
        "colab": {
          "base_uri": "https://localhost:8080/",
          "height": 106
        },
        "id": "Okfo1SRNt4cd",
        "outputId": "03491beb-10c8-4006-be3d-ad02675643bd"
      },
      "execution_count": null,
      "outputs": [
        {
          "output_type": "error",
          "ename": "SyntaxError",
          "evalue": "incomplete input (ipython-input-3722032645.py, line 6)",
          "traceback": [
            "\u001b[0;36m  File \u001b[0;32m\"/tmp/ipython-input-3722032645.py\"\u001b[0;36m, line \u001b[0;32m6\u001b[0m\n\u001b[0;31m    # print(\"an error occured\")\u001b[0m\n\u001b[0m                               ^\u001b[0m\n\u001b[0;31mSyntaxError\u001b[0m\u001b[0;31m:\u001b[0m incomplete input\n"
          ]
        }
      ]
    },
    {
      "cell_type": "code",
      "source": [
        "age = int(input(\"Enter your age:\"))\n",
        "\n",
        "if age<0:\n",
        "  raise ValueError(\"Age cannot be negative\")\n",
        "else:\n",
        "  print(f\"Your age is{age}\")\n",
        "\n",
        "print(\"No try except\")\n"
      ],
      "metadata": {
        "colab": {
          "base_uri": "https://localhost:8080/",
          "height": 228
        },
        "id": "NerKsmAT98iS",
        "outputId": "b8f4b4a6-f9b4-4cd0-d162-e0aac232cfd1"
      },
      "execution_count": null,
      "outputs": [
        {
          "name": "stdout",
          "output_type": "stream",
          "text": [
            "Enter your age:-25\n"
          ]
        },
        {
          "output_type": "error",
          "ename": "ValueError",
          "evalue": "Age cannot be negative",
          "traceback": [
            "\u001b[0;31m---------------------------------------------------------------------------\u001b[0m",
            "\u001b[0;31mValueError\u001b[0m                                Traceback (most recent call last)",
            "\u001b[0;32m/tmp/ipython-input-1725811291.py\u001b[0m in \u001b[0;36m<cell line: 0>\u001b[0;34m()\u001b[0m\n\u001b[1;32m      2\u001b[0m \u001b[0;34m\u001b[0m\u001b[0m\n\u001b[1;32m      3\u001b[0m \u001b[0;32mif\u001b[0m \u001b[0mage\u001b[0m\u001b[0;34m<\u001b[0m\u001b[0;36m0\u001b[0m\u001b[0;34m:\u001b[0m\u001b[0;34m\u001b[0m\u001b[0;34m\u001b[0m\u001b[0m\n\u001b[0;32m----> 4\u001b[0;31m   \u001b[0;32mraise\u001b[0m \u001b[0mValueError\u001b[0m\u001b[0;34m(\u001b[0m\u001b[0;34m\"Age cannot be negative\"\u001b[0m\u001b[0;34m)\u001b[0m\u001b[0;34m\u001b[0m\u001b[0;34m\u001b[0m\u001b[0m\n\u001b[0m\u001b[1;32m      5\u001b[0m \u001b[0;32melse\u001b[0m\u001b[0;34m:\u001b[0m\u001b[0;34m\u001b[0m\u001b[0;34m\u001b[0m\u001b[0m\n\u001b[1;32m      6\u001b[0m   \u001b[0mprint\u001b[0m\u001b[0;34m(\u001b[0m\u001b[0;34mf\"Your age is{age}\"\u001b[0m\u001b[0;34m)\u001b[0m\u001b[0;34m\u001b[0m\u001b[0;34m\u001b[0m\u001b[0m\n",
            "\u001b[0;31mValueError\u001b[0m: Age cannot be negative"
          ]
        }
      ]
    },
    {
      "cell_type": "code",
      "source": [],
      "metadata": {
        "id": "7dQeZ0EmIH-o"
      },
      "execution_count": null,
      "outputs": []
    }
  ]
}