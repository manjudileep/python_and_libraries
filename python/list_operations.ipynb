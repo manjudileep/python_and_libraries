{
  "nbformat": 4,
  "nbformat_minor": 0,
  "metadata": {
    "colab": {
      "provenance": []
    },
    "kernelspec": {
      "name": "python3",
      "display_name": "Python 3"
    },
    "language_info": {
      "name": "python"
    }
  },
  "cells": [
    {
      "cell_type": "code",
      "execution_count": null,
      "metadata": {
        "colab": {
          "base_uri": "https://localhost:8080/"
        },
        "id": "ee-7kiB2h6b3",
        "outputId": "e3ffaa5e-ffe8-4a06-86a6-7bbd02845e48"
      },
      "outputs": [
        {
          "output_type": "stream",
          "name": "stdout",
          "text": [
            "[5, 5, 5, 5, 5, 5]\n",
            "[0, 0, 0, 0]\n"
          ]
        }
      ],
      "source": [
        "a=[5]*6\n",
        "b=[0]*4\n",
        "print(a)\n",
        "print(b)"
      ]
    },
    {
      "cell_type": "code",
      "source": [
        "a=[2,5,8,10]\n",
        "print(a[3])\n",
        "print(a[-2])"
      ],
      "metadata": {
        "colab": {
          "base_uri": "https://localhost:8080/"
        },
        "id": "a2tERWASkpnI",
        "outputId": "3ed5ba77-9ccb-405b-9871-f312e3d0d4d4"
      },
      "execution_count": null,
      "outputs": [
        {
          "output_type": "stream",
          "name": "stdout",
          "text": [
            "10\n",
            "8\n"
          ]
        }
      ]
    },
    {
      "cell_type": "code",
      "source": [
        "a=[]\n",
        "a.append(5)\n",
        "print(a)\n",
        "a.extend([6,7,8])\n",
        "print(a)\n",
        "a.insert(0,9)\n",
        "print(a)\n",
        "a.remove(6)\n",
        "print(a)\n",
        "a.pop()\n",
        "print(a)\n",
        "print(a.count(7))\n",
        "print(a.sort())"
      ],
      "metadata": {
        "colab": {
          "base_uri": "https://localhost:8080/"
        },
        "id": "92w0CkPvlzw6",
        "outputId": "6ebd01f0-d0ea-4ad4-85ee-6202dc423898"
      },
      "execution_count": null,
      "outputs": [
        {
          "output_type": "stream",
          "name": "stdout",
          "text": [
            "[5]\n",
            "[5, 6, 7, 8]\n",
            "[9, 5, 6, 7, 8]\n",
            "[9, 5, 7, 8]\n",
            "[9, 5, 7]\n",
            "1\n",
            "None\n"
          ]
        }
      ]
    },
    {
      "cell_type": "code",
      "source": [],
      "metadata": {
        "id": "ifC_TnCMmuyf"
      },
      "execution_count": null,
      "outputs": []
    }
  ]
}