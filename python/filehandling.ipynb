{
  "nbformat": 4,
  "nbformat_minor": 0,
  "metadata": {
    "colab": {
      "provenance": []
    },
    "kernelspec": {
      "name": "python3",
      "display_name": "Python 3"
    },
    "language_info": {
      "name": "python"
    }
  },
  "cells": [
    {
      "cell_type": "code",
      "execution_count": null,
      "metadata": {
        "colab": {
          "base_uri": "https://localhost:8080/",
          "height": 176
        },
        "id": "01d75XuwJLdx",
        "outputId": "7288b26a-0336-4df8-ea3d-54635f24aaf4"
      },
      "outputs": [
        {
          "output_type": "error",
          "ename": "FileExistsError",
          "evalue": "[Errno 17] File exists: 'myfile.txt'",
          "traceback": [
            "\u001b[0;31m---------------------------------------------------------------------------\u001b[0m",
            "\u001b[0;31mFileExistsError\u001b[0m                           Traceback (most recent call last)",
            "\u001b[0;32m/tmp/ipython-input-3810082147.py\u001b[0m in \u001b[0;36m<cell line: 0>\u001b[0;34m()\u001b[0m\n\u001b[0;32m----> 1\u001b[0;31m \u001b[0mfile\u001b[0m\u001b[0;34m=\u001b[0m\u001b[0mopen\u001b[0m\u001b[0;34m(\u001b[0m\u001b[0;34m\"myfile.txt\"\u001b[0m\u001b[0;34m,\u001b[0m\u001b[0;34m\"x\"\u001b[0m\u001b[0;34m)\u001b[0m\u001b[0;34m\u001b[0m\u001b[0;34m\u001b[0m\u001b[0m\n\u001b[0m\u001b[1;32m      2\u001b[0m \u001b[0mfile\u001b[0m\u001b[0;34m.\u001b[0m\u001b[0mwrite\u001b[0m\u001b[0;34m(\u001b[0m\u001b[0;34m\"this is my file\"\u001b[0m\u001b[0;34m)\u001b[0m\u001b[0;34m\u001b[0m\u001b[0;34m\u001b[0m\u001b[0m\n\u001b[1;32m      3\u001b[0m \u001b[0mfile\u001b[0m\u001b[0;34m.\u001b[0m\u001b[0mclose\u001b[0m\u001b[0;34m(\u001b[0m\u001b[0;34m)\u001b[0m\u001b[0;34m\u001b[0m\u001b[0;34m\u001b[0m\u001b[0m\n",
            "\u001b[0;31mFileExistsError\u001b[0m: [Errno 17] File exists: 'myfile.txt'"
          ]
        }
      ],
      "source": [
        "file=open(\"myfile.txt\",\"x\")\n",
        "file.write(\"this is my file\")\n",
        "file.close()"
      ]
    },
    {
      "cell_type": "code",
      "source": [
        "file=open(\"myfile.txt\",\"w\")\n",
        "file.write(\"this is my file written using w mode\")\n",
        "file.close()"
      ],
      "metadata": {
        "id": "ANAk5uI8KHNL"
      },
      "execution_count": null,
      "outputs": []
    },
    {
      "cell_type": "code",
      "source": [
        "file=open(\"myfile.txt\",\"r\")\n",
        "content=file.read()\n",
        "file.close()\n",
        "print(\"file content\")\n",
        "print(content)"
      ],
      "metadata": {
        "colab": {
          "base_uri": "https://localhost:8080/"
        },
        "id": "4_fkryPjLoai",
        "outputId": "dcca046a-a19f-4a7e-83f2-e7a46d384907"
      },
      "execution_count": null,
      "outputs": [
        {
          "output_type": "stream",
          "name": "stdout",
          "text": [
            "file content\n",
            "this is my file written using w mode\n"
          ]
        }
      ]
    },
    {
      "cell_type": "code",
      "source": [
        "with open(\"myfile.txt\",\"r\") as file:\n",
        "  content=file.read() #read the file as string\n",
        "  print(content)\n"
      ],
      "metadata": {
        "colab": {
          "base_uri": "https://localhost:8080/"
        },
        "id": "Lt69dR01NFxC",
        "outputId": "95682306-adaf-4fa4-8297-a3bcdf76b0b4"
      },
      "execution_count": null,
      "outputs": [
        {
          "output_type": "stream",
          "name": "stdout",
          "text": [
            "this is my file written using w mode\n"
          ]
        }
      ]
    },
    {
      "cell_type": "code",
      "source": [
        "with open(\"myfile.txt\",\"w\")as file:\n",
        "  file.write(\"hello world\")\n",
        "with open(\"myfile.txt\",\"r\")as file:\n",
        "  content=file.read()\n",
        "  print(content)"
      ],
      "metadata": {
        "colab": {
          "base_uri": "https://localhost:8080/"
        },
        "id": "fXdqgNlpRnKx",
        "outputId": "a91fc308-022c-494a-c6e4-19db3ab64d6c"
      },
      "execution_count": null,
      "outputs": [
        {
          "output_type": "stream",
          "name": "stdout",
          "text": [
            "hello world\n"
          ]
        }
      ]
    },
    {
      "cell_type": "code",
      "source": [
        "with open(\"myfile.txt\",\"a\")as file:\n",
        "  file.write(\"\\nappending new line\")"
      ],
      "metadata": {
        "id": "L5cULSwxS4cg"
      },
      "execution_count": null,
      "outputs": []
    },
    {
      "cell_type": "code",
      "source": [
        "with open(\"myfile.txt\",\"r\")as file:\n",
        " for line in file:\n",
        "  print(line.strip())\n"
      ],
      "metadata": {
        "colab": {
          "base_uri": "https://localhost:8080/"
        },
        "id": "fXzj0Id4TzB_",
        "outputId": "0f14a56b-08f3-4401-f6df-9d17923e4441"
      },
      "execution_count": null,
      "outputs": [
        {
          "output_type": "stream",
          "name": "stdout",
          "text": [
            "hello worldappending new line\n",
            "appending new line\n"
          ]
        }
      ]
    },
    {
      "cell_type": "code",
      "source": [
        "lines=[\"i am\\n\",\"file handling\\n\",\"in python\"]\n",
        "with open(\"myfile.txt\",\"w\")as file:\n",
        "  file.writelines(lines)"
      ],
      "metadata": {
        "id": "kS0mlQhPU4aA"
      },
      "execution_count": null,
      "outputs": []
    },
    {
      "cell_type": "code",
      "source": [
        "import os\n",
        "if os.path.exists(\"myfile.txt\"):\n",
        "  os.remove(\"o\")"
      ],
      "metadata": {
        "id": "5d0YdKcKXA5n"
      },
      "execution_count": null,
      "outputs": []
    }
  ]
}